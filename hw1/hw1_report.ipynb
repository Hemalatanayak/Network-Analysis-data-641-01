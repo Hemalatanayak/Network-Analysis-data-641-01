{
  "nbformat": 4,
  "nbformat_minor": 0,
  "metadata": {
    "colab": {
      "provenance": []
    },
    "kernelspec": {
      "name": "python3",
      "display_name": "Python 3"
    },
    "language_info": {
      "name": "python"
    }
  },
  "cells": [
    {
      "cell_type": "markdown",
      "source": [
        "[![Open in Colab](https://colab.research.google.com/assets/colab-badge.svg)](https://colab.research.google.com/drive/1oQIwnWvy_xWOH8aWakMH421bcxpRgmuK?usp=sharing)\n"
      ],
      "metadata": {
        "id": "OB0YHqY_Kf_G"
      }
    },
    {
      "cell_type": "markdown",
      "source": [
        "#**Q1**.\n",
        "\n",
        "*Go through the tutorial on Network elements. Implement functions for Exercises 1 -- 3.*"
      ],
      "metadata": {
        "id": "UNuWCafs1s_2"
      }
    },
    {
      "cell_type": "markdown",
      "source": [
        "## Exercise 1\n",
        "\n",
        "*Write a function named get_leaves that takes a graph as an argument, loops through the nodes, and returns a list of nodes with degree 1.*\n",
        "\n",
        "## Answers"
      ],
      "metadata": {
        "id": "2F-_tN2c22TG"
      }
    },
    {
      "cell_type": "code",
      "source": [
        "import networkx as nx\n",
        "%matplotlib inline"
      ],
      "metadata": {
        "id": "PaJb66p83b-x"
      },
      "execution_count": null,
      "outputs": []
    },
    {
      "cell_type": "code",
      "execution_count": null,
      "metadata": {
        "id": "sHzzm4Wy1Gu9"
      },
      "outputs": [],
      "source": [
        "def get_leaves(G):\n",
        "  leaves=[]                         # Create an empty list to store the leaves\n",
        "  for node in G.nodes():            # Looping through nodes\n",
        "    if G.degree(node)==1:           # if degree of the node is 1, add it the empty list\n",
        "      leaves.append(node)\n",
        "\n",
        "  return leaves\n"
      ]
    },
    {
      "cell_type": "code",
      "source": [
        "# Create a graph with labels a, b, c, d and connect the edges\n",
        "G = nx.Graph()\n",
        "G.add_edges_from([\n",
        "        ('a', 'b'),\n",
        "        ('a', 'd'),\n",
        "        ('c', 'd'),\n",
        "    ])\n",
        "\n",
        "print(G.nodes())\n",
        "nx.draw(G, with_labels=True)\n",
        "\n",
        "# Implement the get_leaves funcction to list the nodes that has degree 1\n",
        "assert set(get_leaves(G)) == {'c', 'b'}, 'failed :('\n",
        "print('success! :)')"
      ],
      "metadata": {
        "colab": {
          "base_uri": "https://localhost:8080/",
          "height": 551
        },
        "id": "nj3jv3WE3Mey",
        "outputId": "a4fe9ce1-5560-42f3-fe18-e5c04410efcd"
      },
      "execution_count": null,
      "outputs": [
        {
          "output_type": "stream",
          "name": "stdout",
          "text": [
            "['a', 'b', 'd', 'c']\n",
            "success! :)\n"
          ]
        },
        {
          "output_type": "display_data",
          "data": {
            "text/plain": [
              "<Figure size 640x480 with 1 Axes>"
            ],
            "image/png": "[encoded data removed]"
          },
          "metadata": {}
        }
      ]
    },
    {
      "cell_type": "markdown",
      "source": [
        "# Exercise 2\n",
        "\n",
        "*Write a function max_degree that takes a graph as its argument, and returns a 2-tuple with the name and degree of the node with highest degree.*\n",
        "\n",
        "## Answers"
      ],
      "metadata": {
        "id": "8MqnTf744mLX"
      }
    },
    {
      "cell_type": "code",
      "source": [
        "# define a function named as max_degree.\n",
        "def max_degree(G):\n",
        "  max_degree = None\n",
        "  for n in G.nodes():\n",
        "    current_degree = G.degree(n)\n",
        "    if max_degree is None or current_degree > max_degree[1]:\n",
        "      max_degree = (n, current_degree)\n",
        "\n",
        "  return max_degree\n"
      ],
      "metadata": {
        "id": "wXmcvvuq4lHg"
      },
      "execution_count": null,
      "outputs": []
    },
    {
      "cell_type": "code",
      "source": [
        "# I have used the github link to directly download the file, so that we need not to upload to colab and anyone with access to the notebook can run the codes smoothly.\n",
        "!wget https://raw.githubusercontent.com/CambridgeUniversityPress/FirstCourseNetworkScience/master/datasets/friends.adjlist -O /content/friends.adjlist"
      ],
      "metadata": {
        "colab": {
          "base_uri": "https://localhost:8080/"
        },
        "id": "s4zQWwkY8fFQ",
        "outputId": "c5498ddd-bcf8-431c-c623-23291532e23f"
      },
      "execution_count": null,
      "outputs": [
        {
          "output_type": "stream",
          "name": "stdout",
          "text": [
            "--2024-02-15 18:15:16--  https://raw.githubusercontent.com/CambridgeUniversityPress/FirstCourseNetworkScience/master/datasets/friends.adjlist\n",
            "Resolving raw.githubusercontent.com (raw.githubusercontent.com)... 185.199.108.133, 185.199.109.133, 185.199.110.133, ...\n",
            "Connecting to raw.githubusercontent.com (raw.githubusercontent.com)|185.199.108.133|:443... connected.\n",
            "HTTP request sent, awaiting response... 200 OK\n",
            "Length: 109 [text/plain]\n",
            "Saving to: ‘/content/friends.adjlist’\n",
            "\n",
            "\r/content/friends.ad   0%[                    ]       0  --.-KB/s               \r/content/friends.ad 100%[===================>]     109  --.-KB/s    in 0s      \n",
            "\n",
            "2024-02-15 18:15:16 (13.7 MB/s) - ‘/content/friends.adjlist’ saved [109/109]\n",
            "\n"
          ]
        }
      ]
    },
    {
      "cell_type": "code",
      "source": [
        "#!ls\n",
        "#!pwd\n",
        "!ls /content/friends.adjlist"
      ],
      "metadata": {
        "colab": {
          "base_uri": "https://localhost:8080/"
        },
        "id": "i8AKfwcp9o8H",
        "outputId": "54f5039e-4321-4ae5-e612-8b8efc4d61d9"
      },
      "execution_count": null,
      "outputs": [
        {
          "output_type": "stream",
          "name": "stdout",
          "text": [
            "/content/friends.adjlist\n"
          ]
        }
      ]
    },
    {
      "cell_type": "code",
      "source": [
        "SG = nx.read_adjlist('/content/friends.adjlist')\n",
        "assert max_degree(SG) == ('Claire', 4), 'failed :('\n",
        "print('success! :)')"
      ],
      "metadata": {
        "colab": {
          "base_uri": "https://localhost:8080/"
        },
        "id": "wo0YDVQ65zqu",
        "outputId": "0d16ea0f-7b73-42ba-e9ca-d20caf056032"
      },
      "execution_count": null,
      "outputs": [
        {
          "output_type": "stream",
          "name": "stdout",
          "text": [
            "success! :)\n"
          ]
        }
      ]
    },
    {
      "cell_type": "markdown",
      "source": [
        "## Discussions\n",
        "* Define a function named as max_degree\n",
        "* Logic used = First define a empty tuple. Then  write a loop to find the degree of a node.\n",
        "* Then If the current degree is larger than the previous degree, add it to the tuple.\n",
        "* Here we have used the [`friends.adjlist`](https://raw.githubusercontent.com/CambridgeUniversityPress/FirstCourseNetworkScience/master/datasets/friends.adjlist) that is available openly. And i have used wget method to download the file."
      ],
      "metadata": {
        "id": "jm9URj5E6wp9"
      }
    },
    {
      "cell_type": "markdown",
      "source": [
        "## Exercise 3\n",
        "\n",
        "*Write a function mutual_friends that takes a graph and two nodes as arguments, and returns a list (or set) of nodes that are linked to both given nodes. For example, in the graph SG drawn above,*\n",
        "\n",
        "## Answers"
      ],
      "metadata": {
        "id": "pi4ezUj-7icx"
      }
    },
    {
      "cell_type": "code",
      "source": [
        "def mutual_friends(G, node_1, node_2):\n",
        "  common_nodes=[]\n",
        "  friends_1=set(G.neighbors(node_1))  # set stores only unique elements\n",
        "  friends_2=set(G.neighbors(node_2))\n",
        "  print(friends_1)\n",
        "  for i in friends_1:\n",
        "    for j in friends_2:\n",
        "      if i == j:\n",
        "        common_nodes.append(i)\n",
        "  return common_nodes"
      ],
      "metadata": {
        "id": "kzrp15BY6v3E"
      },
      "execution_count": null,
      "outputs": []
    },
    {
      "cell_type": "code",
      "source": [
        "SG = nx.read_adjlist('friends.adjlist')\n",
        "assert mutual_friends(SG, 'Alice', 'Claire') == ['Frank'], 'failed :('\n",
        "assert mutual_friends(SG, 'George', 'Bob') == [], 'failed :('\n",
        "assert sorted(mutual_friends(SG, 'Claire', 'George')) == ['Dennis', 'Frank'], 'failed :('\n",
        "print('success! :)')"
      ],
      "metadata": {
        "colab": {
          "base_uri": "https://localhost:8080/"
        },
        "id": "aKApz_qS6guW",
        "outputId": "3f44c0c3-81a1-4784-bfa4-37aadd562b87"
      },
      "execution_count": null,
      "outputs": [
        {
          "output_type": "stream",
          "name": "stdout",
          "text": [
            "{'Claire', 'Frank', 'Bob'}\n",
            "{'Frank', 'Dennis'}\n",
            "{'Esther', 'Alice', 'Frank', 'Dennis'}\n",
            "success! :)\n"
          ]
        }
      ]
    },
    {
      "cell_type": "markdown",
      "source": [
        "## Discussions\n",
        "* In the exercise-3, we have defined a function which will gives us the mutual friends that a node have in a social network.\n",
        "* Here also we use the same friends.adjlist file that we used in exercise 2.\n",
        "* To find the mutual friends, we have implemented the \"neighbors\" function of Networkx module."
      ],
      "metadata": {
        "id": "FOc8Y3l7_FGj"
      }
    },
    {
      "cell_type": "markdown",
      "source": [
        "# **Q2**.\n",
        "\n",
        "*Consider this adjacency matrix.*\n",
        "\n",
        "![\\label{fig:adjacency_matrix}](https://raw.githubusercontent.com/anwala/teaching-network-science/main/spring-2023/homework/hw1/adj_mat.png)\n",
        "\n",
        "*An entry in the ith row and jth column indicates the weight of the link from node i to node j. For instance, the entry in the second row and third column is 2, meaning the weight of the link from node B to node C is 2. What kind of network does this matrix represent?*\n",
        "\n",
        "*Why?*\n",
        "\n",
        "##Answers\n",
        "\n",
        "\n",
        "\n"
      ],
      "metadata": {
        "id": "n28WJL2I_0PK"
      }
    },
    {
      "cell_type": "markdown",
      "source": [
        "The matrix is directed and weighted.\n",
        "\n",
        "_**Reason**_\n",
        "\n",
        "* As the adjacency matrix is not symmetric , so the network is directed. If it's symmetric, the network will be undirected.\n",
        "\n",
        "* The adjacency matrix also contains values than 0 and 1, hence it is weighted."
      ],
      "metadata": {
        "id": "rT2N_0b_G2Zd"
      }
    },
    {
      "cell_type": "markdown",
      "source": [
        "#**Q3**.\n",
        "\n",
        "*Consider the simple (undirected) network represented by the following graph:*\n",
        "\n",
        "![\\label{fig:network}](https://raw.githubusercontent.com/anwala/teaching-network-analysis/main/spring-2024/homework/hw1/hw1_plot.png)\n",
        "\n",
        "**a.**  Show the degree of each node and make a plot of its (normalized) degree distribution.\n",
        "\n",
        "**b.**   Calculate by hand: the diameter and the average path length of the network.\n",
        "\n",
        "**c.**  Calculate by hand: the local clustering coefficient of each node and the average local clustering coefficient of the entire network.\n",
        "\n",
        "## Answers"
      ],
      "metadata": {
        "id": "rqF255XjPwjh"
      }
    },
    {
      "cell_type": "code",
      "source": [
        "# Let generate a graph replicating the above example.\n",
        "import networkx as nx\n",
        "%matplotlib inline\n",
        "G = nx.Graph()\n",
        "nodes_to_add = ['A','B','C','D','E','F']\n",
        "G.add_nodes_from(nodes_to_add)\n",
        "edges_to_add = [('A', 'D'), ('D', 'E'), ('D', 'B'),('D','F'),('B','F'),('B','C')]\n",
        "G.add_edges_from(edges_to_add)\n",
        "\n",
        "# print(G.nodes())\n",
        "nx.draw(G, with_labels=True)"
      ],
      "metadata": {
        "colab": {
          "base_uri": "https://localhost:8080/",
          "height": 516
        },
        "id": "nfA8dESwQzw4",
        "outputId": "77ecc9d9-53a4-489c-f6de-1e9eeae0c838"
      },
      "execution_count": null,
      "outputs": [
        {
          "output_type": "display_data",
          "data": {
            "text/plain": [
              "<Figure size 640x480 with 1 Axes>"
            ],
            "image/png": "[encoded data removed]"
          },
          "metadata": {}
        }
      ]
    },
    {
      "cell_type": "code",
      "source": [
        "### Show the degree of each node.\n",
        "print(G.nodes())\n",
        "degree=[]\n",
        "for node in G.nodes():\n",
        "  deg = (node, G.degree(node))\n",
        "  degree.append(deg)\n",
        "  print(f\"The node {node} has degree {G.degree(node)}: {deg}\")"
      ],
      "metadata": {
        "colab": {
          "base_uri": "https://localhost:8080/"
        },
        "id": "I0MfzGcdWyy3",
        "outputId": "7bf12867-0679-4488-d370-de77ad978a71"
      },
      "execution_count": null,
      "outputs": [
        {
          "output_type": "stream",
          "name": "stdout",
          "text": [
            "['A', 'B', 'C', 'D', 'E', 'F']\n",
            "The node A has degree 1: ('A', 1)\n",
            "The node B has degree 3: ('B', 3)\n",
            "The node C has degree 1: ('C', 1)\n",
            "The node D has degree 4: ('D', 4)\n",
            "The node E has degree 1: ('E', 1)\n",
            "The node F has degree 2: ('F', 2)\n"
          ]
        }
      ]
    },
    {
      "cell_type": "code",
      "source": [
        "### Here, I have written code to find the no. of nodes that has degree k.\n",
        "degrees = [degree for node, degree in G.degree(G.nodes())]\n",
        "print(degrees)\n",
        "Nodes_with_degree_k=[]\n",
        "for k in set(degrees):     #set helps to check only for the unique element\n",
        "  #print(f\"k: {k}\")\n",
        "  nodes=[]\n",
        "  for node in G.nodes():\n",
        "    if G.degree(node) == k:\n",
        "      n = node\n",
        "      #print(f\"n:{n}\")\n",
        "      nodes.append(n)\n",
        "  deg_k=(k,len(nodes))\n",
        "  Nodes_with_degree_k.append(deg_k)\n",
        "\n",
        "print(f\"No. of nodes with degree k: {Nodes_with_degree_k}\")\n",
        "N_k=[]\n",
        "for degree, node in Nodes_with_degree_k:\n",
        "  N_k.append(node)\n",
        "  print(f\"{node} nodes have degree {degree}.\")\n",
        "print(f\"N_k:{N_k}\")"
      ],
      "metadata": {
        "colab": {
          "base_uri": "https://localhost:8080/"
        },
        "id": "4fn4GLc5ZrWC",
        "outputId": "8387c494-32e7-4252-909b-64103135425c"
      },
      "execution_count": null,
      "outputs": [
        {
          "output_type": "stream",
          "name": "stdout",
          "text": [
            "[1, 3, 1, 4, 1, 2]\n",
            "No. of nodes with degree k: [(1, 3), (2, 1), (3, 1), (4, 1)]\n",
            "3 nodes have degree 1.\n",
            "1 nodes have degree 2.\n",
            "1 nodes have degree 3.\n",
            "1 nodes have degree 4.\n",
            "N_k:[3, 1, 1, 1]\n"
          ]
        }
      ]
    },
    {
      "cell_type": "code",
      "source": [
        "import matplotlib.pyplot as plt\n",
        "\n",
        "### Plot the normalized degree distribution.\n",
        "### Normalized degree distribution = N_k / N\n",
        "### where N_k = no. of nodes with degree k\n",
        "### and N = total no. of nodes\n",
        "### Now we will plot the histogram\n",
        "N = len(G.nodes())\n",
        "P_k= []\n",
        "for i in N_k:\n",
        "  P = i / N\n",
        "  P_k.append(P)\n",
        "\n",
        "print(f\"P_k:{P_k}\")\n",
        "k=[1,2,3,4]\n",
        "plt.bar(k, P_k)\n",
        "plt.xlabel(\"degree (k)\")\n",
        "plt.ylabel(\"P_k\")\n",
        "plt.title(\"Normalized degree distribution\")"
      ],
      "metadata": {
        "colab": {
          "base_uri": "https://localhost:8080/",
          "height": 507
        },
        "id": "D1ZFYNBK41ab",
        "outputId": "d9c1d1cf-9362-4887-bdcf-88d3b011d66e"
      },
      "execution_count": null,
      "outputs": [
        {
          "output_type": "stream",
          "name": "stdout",
          "text": [
            "P_k:[0.5, 0.16666666666666666, 0.16666666666666666, 0.16666666666666666]\n"
          ]
        },
        {
          "output_type": "execute_result",
          "data": {
            "text/plain": [
              "Text(0.5, 1.0, 'Normalized degree distribution')"
            ]
          },
          "metadata": {},
          "execution_count": 74
        },
        {
          "output_type": "display_data",
          "data": {
            "text/plain": [
              "<Figure size 640x480 with 1 Axes>"
            ],
            "image/png": "[encoded data removed]"
          },
          "metadata": {}
        }
      ]
    },
    {
      "cell_type": "markdown",
      "source": [
        "##b.\n",
        "\n",
        "*Calculate by hand: the diameter and the average path length of the network*\n",
        "\n",
        "## _Answers_\n",
        "i) Diameter of a network is the shortest distance between the two most distant nodes in the network. In our case, two farthest nodes are A to C or vice-versa.\n",
        "\n",
        "The shortest possible path from A to C is:\n",
        "\n",
        "A-->D-->B-->C = 3 (counting the edges)\n",
        "\n",
        "Therefore, the diameter is 3.\n",
        "\n",
        "ii) Average path length\n",
        "\n",
        "  The average path length (APL) is the average of the shortest path lengths across all pairs of nodes.\n",
        "\n",
        "|Pair|Shortest Path|Shortest path length|\n",
        "|:---|:---|:---|\n",
        "|A, B|A-->D-->B|2|\n",
        "|A, C|A-->D-->B-->C|3|\n",
        "|A, D|A-->D|1|\n",
        "|A, E|A-->D-->E|2|\n",
        "|A, F|A-->D-->F|2|\n",
        "|B, C|B-->C|1|\n",
        "|B, D|B-->D|1|\n",
        "|B, E|B-->D-->E|2|\n",
        "|B, F|B-->F|1|\n",
        "|C, D|C-->B-->D|2|\n",
        "|C, E|C-->B-->D-->E|3|\n",
        "|C, F|C-->B-->F|2|\n",
        "|D, E|D-->E|1|\n",
        "|D, F|D-->F|1|\n",
        "|E, F|E-->D-->F|2|\n",
        "||**Total**|26|\n",
        "\n",
        "So, sum of shortest path = 26\n",
        "\n",
        "Here the network is undirected network. So,\n",
        "total no. of pairs in the given network is, given by the following formula, $$\n",
        "\\frac{N(N-1)}{2}\n",
        "$$\n",
        "where, N = total no. of nodes = 6\n",
        "\n",
        "So, total no. of pairs = 15\n",
        "\n",
        "Therefore, Average path length = sum of shortest paths/ total no. of pairs\n",
        "\n",
        "=> APL = 26 / 15\n",
        "=> APL = 1.73\n",
        "\n",
        "\n",
        "\n"
      ],
      "metadata": {
        "id": "NOD4NOPvQzQk"
      }
    },
    {
      "cell_type": "markdown",
      "source": [
        "##**C**.\n",
        "*Calculate by hand: the local clustering coefficient of each node and the average local clustering coefficient of the entire network.*\n",
        "\n",
        "## Answers ##\n",
        "\n",
        "Clustering coefficient refers to the ratio of the actual number of links among the nodes to the maximum number of links in the neighborhood of a node.\n",
        "\n",
        "Local clustering coefficient for node *i* is given by,\n",
        "$$\n",
        "C(i)=\\frac{2*N(i)}{k_i(k_i-1)}\n",
        "$$\n",
        "Where, $N(i)$= no. of links between neighbors of node *i*, and\n",
        " $k_i$ = degree of node *i*\n",
        "\n",
        "**Note**\n",
        "If degree is less than 2, then clustering coefficient is zero.\n",
        "\n",
        "|node($i$)|neighboring nodes|degree($K_i$)|N(i)|Local Clustering coefficient($C(i)$)|\n",
        "|:---|:---|:---|:---|:---|\n",
        "|A|D, E|1|1|0 or undefined|\n",
        "|B|C, D, F|3|1|(2.1)/3.(3-1) = 1/3|\n",
        "|C|B|1|0|0 or undefined|\n",
        "|D|A, B, E, F|4|1|(2.1)/4.(4-1) = 1/6|\n",
        "|E|D|1|0|0 or undefined|\n",
        "|F|D, B|2|1|(2.1)/2.(2-1)=1|\n",
        "\n",
        "Therefore, the average clustering coefficient is;\n",
        "$$\n",
        "C(i)=\\frac{\\frac{1}{3} + \\frac{1}{6} + 1 + 0 + 0+ 0}{6} = 0.249\n",
        "$$\n",
        "\n",
        "\n"
      ],
      "metadata": {
        "id": "K8Zjh6oFwKE9"
      }
    },
    {
      "cell_type": "markdown",
      "source": [
        "##**Q4**.\n",
        "\n",
        "*Consider the network defined by the adjacency matrix in Q2. How many nodes are in this network? How many links? Are there any self-loops?*"
      ],
      "metadata": {
        "id": "g5FInYyPJXuZ"
      }
    },
    {
      "cell_type": "markdown",
      "source": [
        "## Answers\n",
        "\n",
        "* There are 6 nodes in the network.\n",
        "* There are no self loops.\n",
        "\n",
        "## Discussions\n",
        "\n",
        "* We know,\n",
        "\n",
        " No. of nodes = no. of rows or columns in the adjacency matrix\n",
        "  - As there are 6 rows and also 6 columns in the given adjacency matrix, the no. of nodes that network has 6.\n",
        "\n",
        "* The diagonal elements are zero in the given adjacency matrix, hence it is concluded that there are no self loops.\n",
        "\n",
        "**NOTE** : The adjacency matrix is a square matrix. Thus, no. of rows is always equal to no. of columns.\n",
        "\n"
      ],
      "metadata": {
        "id": "3eGMSu5QJk1Y"
      }
    },
    {
      "cell_type": "markdown",
      "source": [
        "#**Q5**.\n",
        "\n",
        "*Webflix keeps data on customer preferences using a bipartite network connecting users to movies they have watched and/or rated. Webflix's movie library contains approximately 1,000 movies. In the fourth quarter of 2022, Webflix reported having about 5,000 users. Also, on average, a user has watched and/or rated 750 movies. Approximately how many links are in this network? Would you consider this network sparse or dense? Explain.*\n",
        "\n",
        "## Answers\n",
        "\n",
        "i) The bipartile network has two groups of nodes such as users and movies.\n",
        "\n",
        "No. of users $\\approx$ 5000\n",
        "\n",
        "No. of movies $\\approx$ 1000\n",
        "\n",
        "No. of movies a user has watched $\\approx$ 750\n",
        "\n",
        "Therefore, approximately there would be 5000 * 750 = 3,750,000 links in the network.\n",
        "\n",
        "ii) The network seems to be dense, because each user is connected to more than 2/3 of the total movies which means the average degree distribution is high. Density is related to degree distribution. The higher the degree distribution, the denser the network is.\n"
      ],
      "metadata": {
        "id": "gr8O_0_zMPCr"
      }
    },
    {
      "cell_type": "markdown",
      "source": [
        "## References\n",
        "\n",
        "1) Networkx documentation 3.2.1, <https://networkx.org/documentation/stable/reference/index.html>\n",
        "\n",
        "2) Bipartite Networks, <https://miat.inrae.fr/site/images/3/3b/Donnet.pdf>"
      ],
      "metadata": {
        "id": "GV3uJ7xNJO8q"
      }
    }
  ]
}