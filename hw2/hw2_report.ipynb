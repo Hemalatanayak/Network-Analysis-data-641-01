{
  "nbformat": 4,
  "nbformat_minor": 0,
  "metadata": {
    "colab": {
      "provenance": []
    },
    "kernelspec": {
      "name": "python3",
      "display_name": "Python 3"
    },
    "language_info": {
      "name": "python"
    }
  },
  "cells": [
    {
      "cell_type": "markdown",
      "source": [
        "[![Open in Colab](https://colab.research.google.com/assets/colab-badge.svg)](https://colab.research.google.com/drive/1c-1OBCZ69YAkcBJveY_VpLnxaby40_XK?usp=sharing)"
      ],
      "metadata": {
        "id": "kuhwK7sJ_UOt"
      }
    },
    {
      "cell_type": "markdown",
      "source": [
        "## **Homework 2 - Small worlds**\n",
        "\n",
        "### **Hemalata Nayak**\n",
        "### **Data 641-01, Spring 2024**\n",
        "### Feb 23, 2024"
      ],
      "metadata": {
        "id": "qKsb_nJ1324u"
      }
    },
    {
      "cell_type": "markdown",
      "source": [
        "# **Q1. Dataset: US air traffic network**\n",
        "\n",
        "## **EXERCISE 1**\n",
        "\n",
        "**Is there a direct flight between Indianapolis and Fairbanks, Alaska (FAI)? A direct flight is one with no intermediate stops.**"
      ],
      "metadata": {
        "id": "ou0kuCLJ4hr8"
      }
    },
    {
      "cell_type": "code",
      "execution_count": 1,
      "metadata": {
        "colab": {
          "base_uri": "https://localhost:8080/"
        },
        "id": "2-lE6An1vbdE",
        "outputId": "282eaad3-cb68-472d-e760-bb04c528ee75"
      },
      "outputs": [
        {
          "output_type": "stream",
          "name": "stdout",
          "text": [
            "--2024-02-22 23:54:20--  https://github.com/CambridgeUniversityPress/FirstCourseNetworkScience/raw/master/datasets/openflights/openflights_usa.graphml.gz\n",
            "Resolving github.com (github.com)... 140.82.112.3\n",
            "Connecting to github.com (github.com)|140.82.112.3|:443... connected.\n",
            "HTTP request sent, awaiting response... 302 Found\n",
            "Location: https://raw.githubusercontent.com/CambridgeUniversityPress/FirstCourseNetworkScience/master/datasets/openflights/openflights_usa.graphml.gz [following]\n",
            "--2024-02-22 23:54:21--  https://raw.githubusercontent.com/CambridgeUniversityPress/FirstCourseNetworkScience/master/datasets/openflights/openflights_usa.graphml.gz\n",
            "Resolving raw.githubusercontent.com (raw.githubusercontent.com)... 185.199.108.133, 185.199.109.133, 185.199.110.133, ...\n",
            "Connecting to raw.githubusercontent.com (raw.githubusercontent.com)|185.199.108.133|:443... connected.\n",
            "HTTP request sent, awaiting response... 200 OK\n",
            "Length: 31529 (31K) [application/octet-stream]\n",
            "Saving to: ‘/content/openflights_usa.graphml.gz’\n",
            "\n",
            "/content/openflight 100%[===================>]  30.79K  --.-KB/s    in 0.002s  \n",
            "\n",
            "2024-02-22 23:54:21 (13.0 MB/s) - ‘/content/openflights_usa.graphml.gz’ saved [31529/31529]\n",
            "\n"
          ]
        }
      ],
      "source": [
        "# Downloading the dataset\n",
        "!wget https://github.com/CambridgeUniversityPress/FirstCourseNetworkScience/raw/master/datasets/openflights/openflights_usa.graphml.gz -O /content/openflights_usa.graphml.gz"
      ]
    },
    {
      "cell_type": "code",
      "source": [
        "import networkx as nx\n",
        "%matplotlib inline\n"
      ],
      "metadata": {
        "id": "QTVD2M6p8txe"
      },
      "execution_count": 2,
      "outputs": []
    },
    {
      "cell_type": "code",
      "source": [
        "#The nodes in this graph are airports, represented by their IATA codes;\n",
        "#two nodes are connected with an edge if there is a scheduled flight directly connecting these two airports.\n",
        "# We'll assume this graph to be undirected since a flight in one direction usually means there is a return flight.\n",
        "G = nx.read_graphml('openflights_usa.graphml.gz')\n",
        "print(G.nodes())"
      ],
      "metadata": {
        "colab": {
          "base_uri": "https://localhost:8080/"
        },
        "id": "R1znX6QB9Jts",
        "outputId": "afac8b4d-8a3e-470f-aca4-35e2a1a50c08"
      },
      "execution_count": 3,
      "outputs": [
        {
          "output_type": "stream",
          "name": "stdout",
          "text": [
            "['RDD', 'EUG', 'IDA', 'MFR', 'RDM', 'OOK', 'ABL', 'BKC', 'ITO', 'OBU', 'ORV', 'WLK', 'KTS', 'CAK', 'HSV', 'PKB', 'MGM', 'TRI', 'PAH', 'KKA', 'SMK', 'SKK', 'TNC', 'AKB', 'PGA', 'FCA', 'MBS', 'BGM', 'KFP', 'NLG', 'KLW', 'KWN', 'HNM', 'KYU', 'SCM', 'BTI', 'NME', 'KKH', 'NIB', 'PSG', 'AIN', 'CIC', 'KUK', 'WNA', 'IRC', 'SFB', 'SLQ', 'JST', 'HKB', 'MLY', 'CLM', 'KWT', 'ELI', 'GLV', 'PSM', 'TLA', 'WAA', 'MSO', 'HVR', 'HHH', 'GRK', 'TVF', 'SGY', 'MLL', 'RBY', 'EGE', 'CSG', 'LAW', 'FLG', 'ANV', 'TWF', 'MVY', 'KVC', 'STC', 'GTR', 'ERI', 'HYA', 'PTH', 'AUK', 'MGW', 'CRW', 'AVP', 'BJI', 'FAR', 'KPN', 'GCC', 'SVA', 'SCE', 'HGR', 'KOT', 'MEI', 'SPI', 'CEZ', 'HDN', 'LBL', 'COD', 'SGF', 'JLN', 'ABE', 'XNA', 'SBN', 'CKB', 'LRD', 'ORH', 'ACV', 'OAJ', 'DBQ', 'GGG', 'PVC', 'KTN', 'GGW', 'OGD', 'PIH', 'PDT', 'LUR', 'PIZ', 'RAP', 'BTT', 'FYU', 'ATK', 'TLJ', 'SNP', 'IGG', 'STG', 'ILI', 'PTU', 'AZA', 'FSM', 'KAL', 'GFK', 'KSM', 'PRC', 'TTN', 'BOS', 'KVL', 'OAK', 'OMA', 'HOT', 'OGG', 'ICT', 'MCI', 'MSN', 'DLG', 'HRO', 'PHX', 'BGR', 'BUF', 'GEG', 'SFO', 'GNV', 'MEM', 'ELD', 'PVU', 'LAX', 'CLE', 'WTK', 'CVG', 'AIA', 'JNU', 'LFT', 'EWR', 'BOI', 'GCK', 'MOT', 'DAL', 'HLN', 'LCH', 'KOA', 'MYR', 'ACK', 'DCA', 'LAM', 'ACY', 'PUB', 'PQI', 'ADQ', 'FLL', 'INL', 'SLC', 'HON', 'MDT', 'LNK', 'LAN', 'MUE', 'MSS', 'IAH', 'SOW', 'BFL', 'ELP', 'HRL', 'MMU', 'PNS', 'HOU', 'PIT', 'BRW', 'ECP', 'MMH', 'MIA', 'SEA', 'CHA', 'JAN', 'GAM', 'LGB', 'IPT', 'IND', 'KQA', 'HPN', 'JBR', 'ALW', 'YUM', 'CNM', 'DLH', 'BET', 'PKA', 'LIH', 'YAK', 'ATY', 'RIC', 'SHV', 'CDV', 'ORF', 'BPT', 'SAV', 'OME', 'PIE', 'MQT', 'SCC', 'SAT', 'ROC', 'TEB', 'BKW', 'RDU', 'DAY', 'ENA', 'LAS', 'IAG', 'IAN', 'PHF', 'TUS', 'BRL', 'AKP', 'PVD', 'SBY', 'CEC', 'BUR', 'DTW', 'TPA', 'EEK', 'MYU', 'SPS', 'HIB', 'SHH', 'MAF', 'GRB', 'LUK', 'ARC', 'AGS', 'ISN', 'LIT', 'SWF', 'HOM', 'TBN', 'ABR', 'ABY', 'AHN', 'DFW', 'MLB', 'APN', 'AUS', 'BFD', 'BFF', 'TYS', 'BQK', 'STL', 'GRR', 'CGI', 'CIU', 'ATL', 'DRG', 'CMX', 'DDC', 'DUJ', 'EAU', 'EKO', 'EWB', 'BNA', 'FAT', 'GRI', 'OTZ', 'HTS', 'TOG', 'IRK', 'LGA', 'TLH', 'LBE', 'LBF', 'AUG', 'LMT', 'IPL', 'MKL', 'LYH', 'MKG', 'MSL', 'FAY', 'OWB', 'BTV', 'JAX', 'DRO', 'IAD', 'CLL', 'MKE', 'ABI', 'COU', 'PDX', 'SHR', 'PBI', 'SLN', 'SMX', 'TUP', 'UIN', 'VCT', 'HNL', 'DSM', 'EWN', 'SAN', 'MLU', 'AOO', 'ONT', 'ROW', 'BRO', 'DHN', 'FMN', 'CRP', 'SYR', 'MDW', 'SJC', 'HOB', 'DEN', 'PHL', 'SUX', 'MCN', 'NUL', 'LAR', 'CMH', 'GAL', 'IMT', 'AET', 'ACT', 'TXK', 'PBG', 'VEE', 'ANC', 'LEB', 'BLI', 'WBQ', 'MOB', 'SAF', 'CEM', 'LNS', 'ALO', 'BLV', 'SHG', 'RSW', 'AKN', 'JHM', 'JFK', 'MKK', 'CYS', 'SCK', 'CHS', 'RNO', 'MTJ', 'RIW', 'BHM', 'VIS', 'MOD', 'SMF', 'COS', 'SDP', 'MCE', 'OTH', 'CDC', 'BDL', 'MFE', 'GCN', 'LBB', 'ORD', 'FAI', 'PIB', 'ART', 'PSP', 'AMA', 'SJT', 'FOE', 'EAT', 'ILM', 'BTR', 'PIR', 'TYR', 'BWI', 'LNY', 'AEX', 'PLN', 'CDB', 'TUL', 'SIT', 'ISP', 'MSP', 'ILG', 'DUT', 'MSY', 'PWM', 'OKC', 'ALB', 'VDZ', 'SNA', 'RHI', 'CPR', 'VPS', 'EYW', 'CLT', 'RKS', 'MCO', 'FLO', 'GTF', 'YNG', 'ESD', 'RUT', 'BRD', 'LWB', 'PGV', 'CYF', 'SBP', 'WSN', 'AGN', 'SLK', 'WMO', 'ELV', 'ADK', 'GST', 'OGS', 'HCR', 'HNS', 'KLG', 'MCG', 'ESC', 'ANI', 'STS', 'WRG', 'BFI', 'ASE', 'VLD', 'HPB', 'EMK', 'WRL', 'PUW', 'LWS', 'ELM', 'ITH', 'MRY', 'SBA', 'DAB', 'RSH', 'YKM', 'CAE', 'LCK', 'UNK', 'UST', 'GUC', 'MBL', 'PGD', 'JHW', 'CLD', 'SHD', 'DIK', 'SDY', 'CDR', 'KPV', 'MCK', 'GDV', 'OLF', 'ALS', 'CNY', 'VEL', 'HVN', 'AVL', 'GSO', 'FSD', 'FRD', 'MHT', 'APF', 'EGX', 'SDF', 'CHO', 'ROA', 'LEX', 'EVV', 'ABQ', 'BZN', 'BIL', 'BTM', 'TVC', 'KWK', 'BHB', 'RKD', 'JAC', 'RFD', 'SHX', 'CIK', 'GSP', 'HUS', 'HSL', 'BMI', 'GPT', 'AZO', 'TOL', 'FWA', 'DEC', 'CID', 'LSE', 'CWA', 'PIA', 'ATW', 'RST', 'CMI', 'MHK', 'MOU', 'FNT', 'FKL', 'GJT', 'SGU', 'VAK', 'SRQ', 'HNH', 'MLI', 'MTM', 'HYG', 'GLH', 'BIS', 'PSC', 'PIP', 'MWA', 'AKK', 'KYK', 'KLN', 'NUI']\n"
          ]
        }
      ]
    },
    {
      "cell_type": "code",
      "source": [
        "nx.has_path(G, 'IND', 'FAI')"
      ],
      "metadata": {
        "colab": {
          "base_uri": "https://localhost:8080/"
        },
        "id": "zp7oDnvm-ou6",
        "outputId": "a6daf5db-a8ba-4d89-bb78-6914335e7e7a"
      },
      "execution_count": 4,
      "outputs": [
        {
          "output_type": "execute_result",
          "data": {
            "text/plain": [
              "True"
            ]
          },
          "metadata": {},
          "execution_count": 4
        }
      ]
    },
    {
      "cell_type": "code",
      "source": [
        "### To check whether there is direct flight we will see the shortest path and shortest path length should be 1.\n",
        "\n",
        "if nx.shortest_path_length(G, 'IND', 'FAI')==1:\n",
        "  print(\"There is a direct flight between IND and FAI\")\n",
        "else:\n",
        "  print(\"There is no direct path between IND anbd FAI\")"
      ],
      "metadata": {
        "colab": {
          "base_uri": "https://localhost:8080/"
        },
        "id": "QBpEnRGS9djW",
        "outputId": "c63bf251-fd71-456d-d748-f3aced2ddd44"
      },
      "execution_count": 5,
      "outputs": [
        {
          "output_type": "stream",
          "name": "stdout",
          "text": [
            "There is no direct path between IND anbd FAI\n"
          ]
        }
      ]
    },
    {
      "cell_type": "markdown",
      "source": [
        "##Answer:\n",
        "There is no direct path between IND and FAI because shortest path length is not equal to 1."
      ],
      "metadata": {
        "id": "X0XD5uac_MEp"
      }
    },
    {
      "cell_type": "markdown",
      "source": [
        "##**Exercise 2**\n",
        "\n",
        "**If I wanted to fly from Indianapolis to Fairbanks, Alaska what would be an itinerary with the fewest number of flights?**"
      ],
      "metadata": {
        "id": "185c7O6m-wjU"
      }
    },
    {
      "cell_type": "code",
      "source": [
        "nx.shortest_path(G, 'IND', 'FAI')"
      ],
      "metadata": {
        "colab": {
          "base_uri": "https://localhost:8080/"
        },
        "id": "P12fFzRI--pp",
        "outputId": "6baca26e-70eb-4366-d2c1-f012a50d349b"
      },
      "execution_count": 6,
      "outputs": [
        {
          "output_type": "execute_result",
          "data": {
            "text/plain": [
              "['IND', 'BOS', 'SEA', 'FAI']"
            ]
          },
          "metadata": {},
          "execution_count": 6
        }
      ]
    },
    {
      "cell_type": "code",
      "source": [
        "print(G.nodes['BOS']['name'])\n",
        "print(G.nodes['SEA']['name'])"
      ],
      "metadata": {
        "colab": {
          "base_uri": "https://localhost:8080/"
        },
        "id": "R8qPCMqu_ufi",
        "outputId": "cdaa0a29-8acc-4d4f-9c1a-34f98e62c361"
      },
      "execution_count": 7,
      "outputs": [
        {
          "output_type": "stream",
          "name": "stdout",
          "text": [
            "General Edward Lawrence Logan International Airport\n",
            "Seattle Tacoma International Airport\n"
          ]
        }
      ]
    },
    {
      "cell_type": "markdown",
      "source": [
        "##Answer:\n",
        "\n",
        "To fly from Indianpolis to Fairbanks, Alaska, the itineraray will be as following with the fewest no. of flights:\n",
        "\n",
        "Indianpolis (IND) --> General Edward Lawrence Logan International Airport (BOS)\n",
        "\n",
        "General Edward Lawrence Logan International Airport (BOS) --> Seattle Tacoma International Airport (SEA)\n",
        "\n",
        "Seattle Tacoma International Airport (SEA) --> Fairbanks, Alaska (FAI)\n",
        "\n"
      ],
      "metadata": {
        "id": "vf4BFsSe_YKJ"
      }
    },
    {
      "cell_type": "markdown",
      "source": [
        "##**Exercise 3**\n",
        "**Is it possible to travel from any airport in the US to any other airport in the US, possibly using connecting flights? In other words, does there exist a path in the network between every possible pair of airports?**"
      ],
      "metadata": {
        "id": "320QPySJ_KL5"
      }
    },
    {
      "cell_type": "code",
      "source": [
        "nx.is_connected(G)"
      ],
      "metadata": {
        "colab": {
          "base_uri": "https://localhost:8080/"
        },
        "id": "Lrt6oujMAsf5",
        "outputId": "21ad5da1-b7d9-40ba-b6ef-895c74ba9446"
      },
      "execution_count": 8,
      "outputs": [
        {
          "output_type": "execute_result",
          "data": {
            "text/plain": [
              "False"
            ]
          },
          "metadata": {},
          "execution_count": 8
        }
      ]
    },
    {
      "cell_type": "markdown",
      "source": [
        "##Answer\n",
        "\n",
        "As the graph is not fully connected, so it is not possible to travel from any airport in the US to any other airport in the US, possibly using connecting flights i.e. there does not exist a path in the network between every possible pair of airports."
      ],
      "metadata": {
        "id": "lJ-W8J-NA4Kn"
      }
    },
    {
      "cell_type": "markdown",
      "source": [
        "# **Q2.**\n",
        "**What is the central idea behind the notion of \"six degrees of separation\"?**\n",
        "\n",
        "a. Social networks have high clustering coefficients\n",
        "\n",
        "b. Social networks are sparse\n",
        "\n",
        "c. Social networks have many high-degree nodes\n",
        "\n",
        "d. Social networks have small average path lengths\n",
        "\n",
        "**Why?**"
      ],
      "metadata": {
        "id": "LNiJ9txQBSh1"
      }
    },
    {
      "cell_type": "markdown",
      "source": [
        "## Answer:\n",
        "\n",
        "The central idea behind the notion of \"six degree of separation\" is social networks have small average path lengths.\n",
        "\n",
        "It's because any two persons can be connected through maximum 6 connections or less.\n",
        "\n",
        "It tells about the small-world effect which refers to the observation that, in many model and real-world networks, the typical distance between nodes rises very slowly as the number of nodes grows. Most famously, it can occur in social networks, where nodes represent people and the links represents friendships or acquaintances where the chances of mutual connection is high. Hence, leads to small average path lengths."
      ],
      "metadata": {
        "id": "1-CW96_2AuGX"
      }
    },
    {
      "cell_type": "markdown",
      "source": [
        "## **Q3**.\n",
        "\n",
        "**Use The Oracle of Bacon to measure the shortest-path distance in the co-star network among at least 10 pairs of obscure actors and actresses as you can think of. Plot a histogram showing the distribution of the shortest-path lengths, and also estimate the average path length based on your sample.**"
      ],
      "metadata": {
        "id": "m6RZjlBOU1ix"
      }
    },
    {
      "cell_type": "markdown",
      "source": [
        "##Answers\n",
        "\n",
        "We have used the ['The Oracle of Bacon'](https://oracleofbacon.org/) to find the shortest path distance. The table below shows the shortest path distance between any two actors or actresses. Node1 and Node2 forms a pair.\n",
        "\n",
        "|Node1|Node2|shortest path length|\n",
        "|:---|:---|:---|\n",
        "|Amitabh Bachchan|Kevin Bacon|2|\n",
        "|Yami Gautam|Taylor Swift|3|\n",
        "|Rajesh Madhavan|Yami Gautam|2|\n",
        "|Rajesh Madhavan|Cary Grant|4|\n",
        "|Prithviraj Kapoor|Tom Hardy|3|\n",
        "|Govinda|Mammootty|2|\n",
        "|Anirban Chakrabarti|Mammootty|2|\n",
        "|ridhima ghosh|Priya Prakash Varrier|3|\n",
        "|ridhima ghosh|Katharine Hepburn|4|\n",
        "|Satomi Ishihara|Harshad Chopda|4|\n"
      ],
      "metadata": {
        "id": "oi7hMLgeSPvx"
      }
    },
    {
      "cell_type": "code",
      "source": [
        "### Plotting the histogram which shows the distribution of shortest path length\n",
        "\n",
        "import matplotlib.pyplot as plt\n",
        "shortest_path_length = [2,3,4]\n",
        "frequency = [4,3,3]\n",
        "plt.bar(shortest_path_length, frequency, width=0.2)\n",
        "\n",
        "plt.xlabel(\"Shortest path length\")\n",
        "plt.ylabel(\"counts\")\n",
        "plt.title(\"Distribution of shortest path length\")\n"
      ],
      "metadata": {
        "colab": {
          "base_uri": "https://localhost:8080/",
          "height": 489
        },
        "id": "2yeVJbXKZS7e",
        "outputId": "0f663e14-b050-41e2-d1fa-3d0a529babfa"
      },
      "execution_count": null,
      "outputs": [
        {
          "output_type": "execute_result",
          "data": {
            "text/plain": [
              "Text(0.5, 1.0, 'Distribution of shortest path length')"
            ]
          },
          "metadata": {},
          "execution_count": 5
        },
        {
          "output_type": "display_data",
          "data": {
            "text/plain": [
              "<Figure size 640x480 with 1 Axes>"
            ],
            "image/png": "[encoded data removed]"
          },
          "metadata": {}
        }
      ]
    },
    {
      "cell_type": "markdown",
      "source": [
        "##Discussion\n",
        "The above plot shows the distribution of shortest path length for 10 pairs of random actors or actresses. From the plot it is clear that the shortest path length in the network is small i.e. it is a small world.\n",
        "\n",
        "The average path length (APL) is given by:\n",
        "\n",
        "$$\n",
        "APL = \\frac{\\text{sum of shortest paths}}{\\text{Total no. of pairs}}\n",
        "$$\n",
        "\n",
        "$$\n",
        " = \\frac{(2 \\times 4) + (3 \\times 3) + (4 \\times 3)}{10} = 2.9\n",
        "$$\n",
        "\n",
        "\n",
        "Therefore, the average path length is found to be 2.9. It indicates that nodes (i.e actor or actresses) in the network are relatively close to each other which reflects a real world network."
      ],
      "metadata": {
        "id": "NSYWJKZHa-mp"
      }
    },
    {
      "cell_type": "markdown",
      "source": [
        "## References\n",
        "\n",
        "1) Small World Networks, <https://www.jsums.edu/nmeghanathan/files/2015/08/CSC641-Fall2015-Module-6-Small-World-Networks-reduced.pdf>\n"
      ],
      "metadata": {
        "id": "W22RxiHo-Zf3"
      }
    }
  ]
}