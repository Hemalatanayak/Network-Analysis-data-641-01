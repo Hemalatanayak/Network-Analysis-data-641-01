{
  "nbformat": 4,
  "nbformat_minor": 0,
  "metadata": {
    "colab": {
      "provenance": []
    },
    "kernelspec": {
      "name": "python3",
      "display_name": "Python 3"
    },
    "language_info": {
      "name": "python"
    }
  },
  "cells": [
    {
      "cell_type": "markdown",
      "source": [
        "\n",
        "[![Open in Colab](https://colab.research.google.com/assets/colab-badge.svg)](https://colab.research.google.com/drive/1UMePdiJwucVFIZBvXYHEmfJdYRmB8vei?usp=sharing)\n",
        "\n",
        "<!-- Ensure that you include the correct file path of your notebook file. Study the location of my [notebook file on Github](https://github.com/anwala/teaching-network-science/blob/main/spring-2023/week-1/data_340_02_report_template.ipynb) and above path (`github/anwala/teaching-network-science/blob/main/spring-2023/week-1/data_340_02_report_template.ipynb`) I used to produce the blue button. -->"
      ],
      "metadata": {
        "id": "xTdmMKYmwWOV"
      }
    },
    {
      "cell_type": "markdown",
      "source": [
        "# HW0 - Creating a GitHub repo and editing the example notebook\n",
        "### Hemalata Nayak\n",
        "### Data 641-01, Spring 2024\n",
        "### Feb 01, 2024\n",
        "\n"
      ],
      "metadata": {
        "id": "cnaJOC71wJvb"
      }
    },
    {
      "cell_type": "markdown",
      "source": [
        "# Q3.\n",
        "\n",
        "*Write down at least 3 of your expectations (what you wish to accomplish) in this class*\n",
        "\n",
        "## Answer\n",
        "i) I hope to learn the uses of graphs in real world and how to implement them for industrial use or academic.\n",
        "\n",
        "ii) I also hope to learn graph theory and about graph neural network.\n",
        "\n",
        "iii) Want to learn about predicting information (i.e missing edges) from the information that we have in an incomplete network.\n",
        "\n",
        "\n",
        "#Q4.\n",
        "\n",
        "The example figure below shows the logo of College of William and Mary which is one of the very old and reputed public university in USA.\n",
        "\n",
        "![\\label{fig:wm_logo}](https://raw.githubusercontent.com/Hemalatanayak/Network-Analysis-data-641-01/main/WMlogo.jpg?token=GHSAT0AAAAAACOAV74MIXFE3WTUJIAIFJZKZONIMQA)\n",
        "\n",
        "\n",
        "*In addition to screenshots, include code in your report*"
      ],
      "metadata": {
        "id": "N2VNck0DylKe"
      }
    },
    {
      "cell_type": "markdown",
      "source": [
        "# Q5.\n",
        "*Replace the code in the fenced code block with any other block of code. You can use some Python code, or you can insert code from a different language -- just change the language indicated so that syntax highlighting still works properly.*\n",
        "\n",
        "## Answer\n",
        "\n",
        "I have written python code to generate a Fibonacci series upto 10 numbers.\n",
        "\n"
      ],
      "metadata": {
        "id": "pKSVhKQexMYw"
      }
    },
    {
      "cell_type": "code",
      "source": [
        "def generate_fibonacci_series(n):\n",
        "    fibonacci_series = []\n",
        "    a, b = 0, 1\n",
        "    for _ in range(n):\n",
        "        fibonacci_series.append(a)\n",
        "        a, b = b, a + b\n",
        "    return fibonacci_series\n",
        "\n",
        "# Number of terms in the series\n",
        "n = 10\n",
        "fibonacci_series = generate_fibonacci_series(n)\n",
        "print(f\"Fibonacci series up to {n} terms:\")\n",
        "print(fibonacci_series)\n"
      ],
      "metadata": {
        "colab": {
          "base_uri": "https://localhost:8080/"
        },
        "id": "gMfPsTR0zJrJ",
        "outputId": "696cf99d-7756-4f52-cecf-82ba6ce04c35"
      },
      "execution_count": 2,
      "outputs": [
        {
          "output_type": "stream",
          "name": "stdout",
          "text": [
            "Fibonacci series up to 10 terms:\n",
            "[0, 1, 1, 2, 3, 5, 8, 13, 21, 34]\n"
          ]
        }
      ]
    },
    {
      "cell_type": "markdown",
      "source": [
        "# Q6.\n",
        "*Edit the first table so that it matches the first 4 weeks of our class schedule, as given in our syllabus.*\n",
        "\n",
        "## Answer\n",
        "\n",
        "The table below shows the first 4 weeks of our class schedule.\n",
        "\n",
        "|Week|Lecture Dates|Topic|\n",
        "|:---|:---|:---|\n",
        "|1|Jan 26|Introductions|\n",
        "|2|Jan 31 & Feb 2|Network elements|\n",
        "|3|Feb 7 & 9|Network elements|\n",
        "|4|Feb 14 & 16|Small Worlds|\n"
      ],
      "metadata": {
        "id": "IZ2yQEolpc5R"
      }
    },
    {
      "cell_type": "markdown",
      "source": [
        "#Q7.\n",
        "\n",
        "*In the References section, replace the placeholder references with three webpages that you've visited so far this semester related to the class. These should include both the title of the webpage/article and the URL.*\n",
        "\n",
        "# References\n",
        "\n",
        "*I have attached few of references that I have followed till now.*\n",
        "\n",
        "* Markdown guide, <https://www.markdownguide.org/basic-syntax/>\n",
        "* Network Analysis Overview, <https://www.mygreatlearning.com/blog/what-is-network-analysis/>\n",
        "* Graph Theory, <https://www.cl.cam.ac.uk/teaching/1011/PrincComm/slides-lpr/graph_theory_1-11.pdf>"
      ],
      "metadata": {
        "id": "CL4_WDbOzkGK"
      }
    }
  ]
}